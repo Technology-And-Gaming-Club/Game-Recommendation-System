{
 "cells": [
  {
   "cell_type": "markdown",
   "metadata": {},
   "source": [
    "# Game Content Based Recommendation System"
   ]
  },
  {
   "cell_type": "code",
   "execution_count": 1,
   "metadata": {},
   "outputs": [],
   "source": [
    "#importing libraries\n",
    "\n",
    "import pandas as pd\n",
    "#from sklearn.feature_extraction.text import CountVectorizer\n",
    "from sklearn.metrics.pairwise import cosine_similarity\n",
    "from sklearn.feature_extraction.text import TfidfVectorizer"
   ]
  },
  {
   "cell_type": "code",
   "execution_count": 2,
   "metadata": {},
   "outputs": [],
   "source": [
    "#Defining a helper function to get the title from the index\n",
    "\n",
    "def get_title_from_index(index):\n",
    "    return df[df.index == index][\"name\"].values[0]"
   ]
  },
  {
   "cell_type": "code",
   "execution_count": 3,
   "metadata": {},
   "outputs": [],
   "source": [
    "#Defining a helper function to get the index of the game using the title\n",
    "\n",
    "def get_index_from_title(name):\n",
    "    return df[df.name == name][\"index\"].values[0]"
   ]
  },
  {
   "cell_type": "code",
   "execution_count": 4,
   "metadata": {},
   "outputs": [],
   "source": [
    "#Importing the dataset\n",
    "\n",
    "df = pd.read_csv(\"steam.csv\", encoding = \"ISO-8859-1\")"
   ]
  },
  {
   "cell_type": "code",
   "execution_count": 5,
   "metadata": {},
   "outputs": [
    {
     "data": {
      "text/plain": [
       "Index(['index', 'name', 'publisher', 'categories', 'genres', 'steamspy_tags'], dtype='object')"
      ]
     },
     "execution_count": 5,
     "metadata": {},
     "output_type": "execute_result"
    }
   ],
   "source": [
    "#Listing all the columns in the dataset\n",
    "\n",
    "df.columns"
   ]
  },
  {
   "cell_type": "code",
   "execution_count": 6,
   "metadata": {},
   "outputs": [],
   "source": [
    "#Selecting the features that are relevant to the system\n",
    "\n",
    "features = ['genres','steamspy_tags','categories','publisher']"
   ]
  },
  {
   "cell_type": "code",
   "execution_count": 7,
   "metadata": {},
   "outputs": [],
   "source": [
    "#Fills NAN with space\n",
    "\n",
    "for feature in features:\n",
    "    df[feature] = df[feature].fillna('')\n"
   ]
  },
  {
   "cell_type": "code",
   "execution_count": 8,
   "metadata": {},
   "outputs": [],
   "source": [
    "#Combines the features \n",
    "\n",
    "def combine_features(row):\n",
    "    return row[\"genres\"]+\" \"+row[\"steamspy_tags\"]+\" \"+row[\"categories\"]+\" \"+row[\"publisher\"]\n",
    "\n",
    "df[\"combined_features\"] = df.apply(combine_features,axis=1)\n"
   ]
  },
  {
   "cell_type": "code",
   "execution_count": 9,
   "metadata": {},
   "outputs": [
    {
     "data": {
      "text/plain": [
       "(27075, 13979)"
      ]
     },
     "execution_count": 9,
     "metadata": {},
     "output_type": "execute_result"
    }
   ],
   "source": [
    "#Creating Count matrix with sklearn Tfidfvectorizer\n",
    "\n",
    "tfidf = TfidfVectorizer(stop_words='english')\n",
    "count_matrix = tfidf.fit_transform(df[\"combined_features\"])\n",
    "count_matrix.shape"
   ]
  },
  {
   "cell_type": "code",
   "execution_count": 10,
   "metadata": {},
   "outputs": [],
   "source": [
    "#Computing the Cosine Similarity based on the count_matrix using sklearn cosine_similarity\n",
    "\n",
    "cosine_sim = cosine_similarity(count_matrix) "
   ]
  },
  {
   "cell_type": "code",
   "execution_count": 11,
   "metadata": {},
   "outputs": [],
   "source": [
    "#Users input\n",
    "#example: Grand Theft Auto IV\n",
    "\n",
    "Game_user_likes = input(\"Enter the name of the Game\")"
   ]
  },
  {
   "cell_type": "code",
   "execution_count": 12,
   "metadata": {},
   "outputs": [],
   "source": [
    "#Getting index of movie with title\n",
    "\n",
    "movie_index = get_index_from_title(movie_user_likes)\n",
    "similar_movies =  list(enumerate(cosine_sim[movie_index]))"
   ]
  },
  {
   "cell_type": "code",
   "execution_count": 13,
   "metadata": {},
   "outputs": [],
   "source": [
    "#Getting list of similar movie in decending order of similarity score\n",
    "\n",
    "sorted_similar_movies = sorted(similar_movies,key=lambda x:x[1],reverse=True)"
   ]
  },
  {
   "cell_type": "code",
   "execution_count": 14,
   "metadata": {},
   "outputs": [
    {
     "name": "stdout",
     "output_type": "stream",
     "text": [
      "Grand Theft Auto: Episodes from Liberty City\n",
      "Grand Theft Auto V\n",
      "Grand Theft Auto: San Andreas\n",
      "Grand Theft Auto IV\n",
      "Bully: Scholarship Edition\n",
      "Grand Theft Auto III\n",
      "Grand Theft Auto\n",
      "Grand Theft Auto 2\n",
      "Grand Theft Auto: Vice City\n",
      "L.A. Noire\n",
      "Just Cause 2: Multiplayer Mod\n",
      "Assassins Creed Brotherhood\n",
      "L.A. Noire: The Case Files\n",
      "Next Day: Survival\n",
      "Far Cry 2: Fortune's Edition\n",
      "Manhunt\n"
     ]
    }
   ],
   "source": [
    "#Printing the list in first 10 similar games\n",
    "\n",
    "i=0\n",
    "for element in sorted_similar_movies:\n",
    "    print (get_title_from_index(element[0]))\n",
    "    i=i+1\n",
    "    if i>15:\n",
    "        break"
   ]
  },
  {
   "cell_type": "code",
   "execution_count": null,
   "metadata": {},
   "outputs": [],
   "source": []
  }
 ],
 "metadata": {
  "kernelspec": {
   "display_name": "Python 3",
   "language": "python",
   "name": "python3"
  },
  "language_info": {
   "codemirror_mode": {
    "name": "ipython",
    "version": 3
   },
   "file_extension": ".py",
   "mimetype": "text/x-python",
   "name": "python",
   "nbconvert_exporter": "python",
   "pygments_lexer": "ipython3",
   "version": "3.7.3"
  }
 },
 "nbformat": 4,
 "nbformat_minor": 2
}
